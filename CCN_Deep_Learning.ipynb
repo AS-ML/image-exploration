{
  "cells": [
    {
      "cell_type": "markdown",
      "metadata": {
        "id": "view-in-github",
        "colab_type": "text"
      },
      "source": [
        "<a href=\"https://colab.research.google.com/github/AS-ML/image-exploration/blob/AS-ML-%2F-Machine-Leaning-/CCN_Deep_Learning.ipynb\" target=\"_parent\"><img src=\"https://colab.research.google.com/assets/colab-badge.svg\" alt=\"Open In Colab\"/></a>"
      ]
    },
    {
      "cell_type": "code",
      "execution_count": null,
      "metadata": {
        "colab": {
          "base_uri": "https://localhost:8080/"
        },
        "id": "qMFmg856411h",
        "outputId": "90e2d89b-2e83-42be-c3cb-9dcbc352af80"
      },
      "outputs": [
        {
          "output_type": "stream",
          "name": "stdout",
          "text": [
            "Mounted at /content/drive\n"
          ]
        }
      ],
      "source": [
        "# Mounting the drive\n",
        "from google.colab import drive\n",
        "\n",
        "drive.mount('/content/drive')\n"
      ]
    },
    {
      "cell_type": "code",
      "execution_count": null,
      "metadata": {
        "id": "qprkPYi_AmMT"
      },
      "outputs": [],
      "source": [
        "# Importing libraries required to load the data\n",
        "import zipfile\n",
        "import os\n",
        "from PIL import Image\n",
        "import numpy as np\n",
        "import pandas as pd\n",
        "import matplotlib.pyplot as plt\n",
        "import seaborn as sns\n",
        "from sklearn.model_selection import train_test_split\n",
        "from sklearn.preprocessing import MinMaxScaler\n",
        "import tensorflow as tf\n",
        "from tensorflow.keras import optimizers\n",
        "\n",
        "from keras.utils.np_utils import to_categorical\n",
        "\n",
        "# To ignore warnings\n",
        "import warnings\n",
        "warnings.filterwarnings('ignore')\n",
        "\n",
        "# Remove the limit from the number of displayed columns and rows. It helps to see the entire dataframe while printing it\n",
        "pd.set_option(\"display.max_columns\", None)\n",
        "pd.set_option(\"display.max_rows\", 200)"
      ]
    },
    {
      "cell_type": "code",
      "execution_count": null,
      "metadata": {
        "id": "_pbRbKrN45sB"
      },
      "outputs": [],
      "source": [
        "# Storing the path of the data file from the Google drive\n",
        "path = '/content/drive/MyDrive/Capstone_Project_1/cell_images.zip'\n",
        "\n",
        "# The data is provided as a zip file so we need to extract the files from the zip file\n",
        "with zipfile.ZipFile(path, 'r') as zip_ref:\n",
        "\n",
        "    zip_ref.extractall()"
      ]
    },
    {
      "cell_type": "code",
      "execution_count": null,
      "metadata": {
        "id": "SjK02uF1DXdW"
      },
      "outputs": [],
      "source": [
        "# Storing the path of the extracted \"train\" folder \n",
        "train_dir = '/content/cell_images/train'\n",
        "\n",
        "# Size of image so that each image has the same size\n",
        "SIZE = 64\n",
        "\n",
        "# Empty list to store the training images after they are converted to NumPy arrays\n",
        "train_images = []\n",
        "\n",
        "# Empty list to store the training labels (0 - uninfected, 1 - parasitized)\n",
        "train_labels = []"
      ]
    },
    {
      "cell_type": "code",
      "execution_count": null,
      "metadata": {
        "id": "2JNY4tSvDXgn"
      },
      "outputs": [],
      "source": [
        "# We will run the same code for \"parasitized\" as well as \"uninfected\" folders within the \"train\" folder\n",
        "for folder_name in ['/parasitized/', '/uninfected/']:\n",
        "    \n",
        "    # Path of the folder\n",
        "    images_path = os.listdir(train_dir + folder_name)\n",
        "\n",
        "    for i, image_name in enumerate(images_path):\n",
        "    \n",
        "        try:\n",
        "    \n",
        "            # Opening each image using the path of that image\n",
        "            image = Image.open(train_dir + folder_name + image_name)\n",
        "\n",
        "            # Resizing each image to (64, 64)\n",
        "            image = image.resize((SIZE, SIZE))\n",
        "\n",
        "            # Converting images to arrays and appending that array to the empty list defined above\n",
        "            train_images.append(np.array(image))\n",
        "\n",
        "            # Creating labels for parasitized and uninfected images\n",
        "            if folder_name == '/parasitized/':\n",
        "                \n",
        "                train_labels.append(1)\n",
        "            \n",
        "            else:\n",
        "            \n",
        "                train_labels.append(0)\n",
        "        \n",
        "        except Exception:\n",
        "        \n",
        "            pass       \n",
        "\n",
        "# Converting lists to arrays\n",
        "train_images = np.array(train_images)\n",
        "\n",
        "train_labels = np.array(train_labels)"
      ]
    },
    {
      "cell_type": "code",
      "execution_count": null,
      "metadata": {
        "id": "DfwXIsK_DXiv"
      },
      "outputs": [],
      "source": [
        "# Storing the path of the extracted \"test\" folder \n",
        "test_dir = '/content/cell_images/test'\n",
        "\n",
        "# Size of image so that each image has the same size (it must be same as the train image size)\n",
        "SIZE = 64\n",
        "\n",
        "# Empty list to store the testing images after they are converted to NumPy arrays\n",
        "test_images = []\n",
        "\n",
        "# Empty list to store the testing labels (0 - uninfected, 1 - parasitized)\n",
        "test_labels = []"
      ]
    },
    {
      "cell_type": "code",
      "execution_count": null,
      "metadata": {
        "id": "My6pm3AFDXk9"
      },
      "outputs": [],
      "source": [
        "# We will run the same code for \"parasitized\" as well as \"uninfected\" folders within the \"test\" folder\n",
        "for folder_name in ['/parasitized/', '/uninfected/']:\n",
        "    \n",
        "    # Path of the folder\n",
        "    images_path = os.listdir(test_dir + folder_name)\n",
        "\n",
        "    for i, image_name in enumerate(images_path):\n",
        "     \n",
        "        try:\n",
        "            # Opening each image using the path of that image\n",
        "            image = Image.open(test_dir + folder_name + image_name)\n",
        "            \n",
        "            # Resizing each image to (64, 64)\n",
        "            image = image.resize((SIZE, SIZE))\n",
        "            \n",
        "            # Converting images to arrays and appending that array to the empty list defined above\n",
        "            test_images.append(np.array(image))\n",
        "            \n",
        "            # Creating labels for parasitized and uninfected images\n",
        "            if folder_name == '/parasitized/':\n",
        "                \n",
        "                test_labels.append(1)\n",
        "            \n",
        "            else:\n",
        "            \n",
        "                test_labels.append(0)\n",
        "        \n",
        "        except Exception:\n",
        "        \n",
        "            pass       \n",
        "\n",
        "# Converting lists to arrays\n",
        "test_images = np.array(test_images)\n",
        "\n",
        "test_labels = np.array(test_labels)"
      ]
    },
    {
      "cell_type": "code",
      "execution_count": null,
      "metadata": {
        "id": "HqzvvNS9IvsP"
      },
      "outputs": [],
      "source": [
        "# Normalize the train and test images by dividing it by 255 and convert them to float32 using astype function\n",
        "train_images = (train_images).astype('float32')/255 \n",
        "\n",
        "test_images = (test_images).astype('float32')/255 "
      ]
    },
    {
      "cell_type": "code",
      "execution_count": null,
      "metadata": {
        "id": "xDWl6dVtOMom"
      },
      "outputs": [],
      "source": [
        "# Encoding Train Labels\n",
        "train_labels = to_categorical(train_labels, 2)\n",
        "\n",
        "# Similarly let us try to encode test labels\n",
        "test_labels = to_categorical(test_labels, 2)"
      ]
    },
    {
      "cell_type": "code",
      "execution_count": null,
      "metadata": {
        "id": "X8eWxdyDp_ZC"
      },
      "outputs": [],
      "source": [
        "# Clearing backend\n",
        "from tensorflow.keras import backend\n",
        "from tensorflow.keras.utils import to_categorical\n",
        "from tensorflow.keras.models import Sequential\n",
        "from tensorflow.keras.layers import Conv2D, MaxPool2D, Dense, Flatten, Dropout,LeakyReLU,BatchNormalization  \n",
        "from tensorflow.keras.callbacks import EarlyStopping, ModelCheckpoint,TensorBoard\n",
        "from random import shuffle\n",
        "\n",
        "backend.clear_session()\n",
        "# Fixing the seed for random number generators so that we can ensure we receive the same output everytime\n",
        "np.random.seed(42)\n",
        "import random\n",
        "random.seed(42)\n",
        "tf.random.set_seed(42)"
      ]
    },
    {
      "cell_type": "code",
      "execution_count": null,
      "metadata": {
        "colab": {
          "base_uri": "https://localhost:8080/"
        },
        "id": "3LV1Ad_b4_LK",
        "outputId": "b5b2afa2-8ba8-47da-ae6f-6d353e35d174"
      },
      "outputs": [
        {
          "output_type": "stream",
          "name": "stdout",
          "text": [
            "Model: \"sequential_1\"\n",
            "_________________________________________________________________\n",
            " Layer (type)                Output Shape              Param #   \n",
            "=================================================================\n",
            " conv2d_3 (Conv2D)           (None, 64, 64, 32)        416       \n",
            "                                                                 \n",
            " max_pooling2d_3 (MaxPooling  (None, 32, 32, 32)       0         \n",
            " 2D)                                                             \n",
            "                                                                 \n",
            " dropout_4 (Dropout)         (None, 32, 32, 32)        0         \n",
            "                                                                 \n",
            " conv2d_4 (Conv2D)           (None, 32, 32, 32)        4128      \n",
            "                                                                 \n",
            " max_pooling2d_4 (MaxPooling  (None, 16, 16, 32)       0         \n",
            " 2D)                                                             \n",
            "                                                                 \n",
            " dropout_5 (Dropout)         (None, 16, 16, 32)        0         \n",
            "                                                                 \n",
            " conv2d_5 (Conv2D)           (None, 16, 16, 32)        4128      \n",
            "                                                                 \n",
            " max_pooling2d_5 (MaxPooling  (None, 8, 8, 32)         0         \n",
            " 2D)                                                             \n",
            "                                                                 \n",
            " dropout_6 (Dropout)         (None, 8, 8, 32)          0         \n",
            "                                                                 \n",
            " flatten_1 (Flatten)         (None, 2048)              0         \n",
            "                                                                 \n",
            " dense_2 (Dense)             (None, 512)               1049088   \n",
            "                                                                 \n",
            " dropout_7 (Dropout)         (None, 512)               0         \n",
            "                                                                 \n",
            " dense_3 (Dense)             (None, 2)                 1026      \n",
            "                                                                 \n",
            "=================================================================\n",
            "Total params: 1,058,786\n",
            "Trainable params: 1,058,786\n",
            "Non-trainable params: 0\n",
            "_________________________________________________________________\n"
          ]
        }
      ],
      "source": [
        "# Creating sequential model\n",
        "\n",
        "model = Sequential()\n",
        "model.add(Conv2D(filters = 32, kernel_size = 2, padding = \"same\", activation = \"relu\", input_shape = (64, 64, 3)))\n",
        "model.add(MaxPool2D(pool_size = 2))\n",
        "model.add(Dropout(0.2))\n",
        "model.add(Conv2D(filters = 32, kernel_size = 2, padding = \"same\", activation = \"relu\"))\n",
        "model.add(MaxPool2D(pool_size = 2))\n",
        "model.add(Dropout(0.2))\n",
        "model.add(Conv2D(filters = 32, kernel_size = 2, padding = \"same\", activation = \"relu\"))\n",
        "model.add(MaxPool2D(pool_size = 2))\n",
        "model.add(Dropout(0.2))\n",
        "\n",
        "model.add(Flatten())\n",
        "\n",
        "model.add(Dense(512, activation = \"relu\"))\n",
        "model.add(Dropout(0.4))\n",
        "model.add(Dense(2, activation = \"softmax\")) # 2 represents output layer neurons \n",
        "model.summary()\n",
        "\n"
      ]
    },
    {
      "cell_type": "code",
      "execution_count": null,
      "metadata": {
        "id": "fGGRMByKOMyG"
      },
      "outputs": [],
      "source": [
        "# Compile the model\n",
        "model.compile(loss = 'binary_crossentropy', optimizer = 'adam', metrics = ['accuracy'])"
      ]
    },
    {
      "cell_type": "code",
      "execution_count": null,
      "metadata": {
        "id": "FPwUYX3KOM34"
      },
      "outputs": [],
      "source": [
        "# This will stop the fitting the model if there is not improvemnet \n",
        "callbacks = [EarlyStopping(monitor = 'val_loss', patience = 2),\n",
        "             ModelCheckpoint('.mdl_wts.hdf5', monitor = 'val_loss', save_best_only = True)]"
      ]
    },
    {
      "cell_type": "markdown",
      "metadata": {
        "id": "91af114l7DCt"
      },
      "source": [
        "<b> Fit and train our Model"
      ]
    },
    {
      "cell_type": "code",
      "execution_count": null,
      "metadata": {
        "colab": {
          "base_uri": "https://localhost:8080/"
        },
        "id": "XysPQsWn5EGq",
        "outputId": "1c77a2f1-7921-4426-ba2e-c28752a20b5d"
      },
      "outputs": [
        {
          "output_type": "stream",
          "name": "stdout",
          "text": [
            "Epoch 1/20\n",
            "624/624 [==============================] - 16s 10ms/step - loss: 0.4270 - accuracy: 0.7880 - val_loss: 0.1490 - val_accuracy: 0.9495\n",
            "Epoch 2/20\n",
            "624/624 [==============================] - 5s 7ms/step - loss: 0.1294 - accuracy: 0.9527 - val_loss: 0.1388 - val_accuracy: 0.9679\n",
            "Epoch 3/20\n",
            "624/624 [==============================] - 5s 8ms/step - loss: 0.1064 - accuracy: 0.9653 - val_loss: 0.0896 - val_accuracy: 0.9884\n",
            "Epoch 4/20\n",
            "624/624 [==============================] - 5s 8ms/step - loss: 0.0934 - accuracy: 0.9700 - val_loss: 0.0679 - val_accuracy: 0.9880\n",
            "Epoch 5/20\n",
            "624/624 [==============================] - 5s 8ms/step - loss: 0.0814 - accuracy: 0.9726 - val_loss: 0.0662 - val_accuracy: 0.9908\n",
            "Epoch 6/20\n",
            "624/624 [==============================] - 5s 7ms/step - loss: 0.0734 - accuracy: 0.9748 - val_loss: 0.0629 - val_accuracy: 0.9902\n",
            "Epoch 7/20\n",
            "624/624 [==============================] - 5s 8ms/step - loss: 0.0714 - accuracy: 0.9766 - val_loss: 0.0539 - val_accuracy: 0.9912\n",
            "Epoch 8/20\n",
            "624/624 [==============================] - 5s 7ms/step - loss: 0.0639 - accuracy: 0.9784 - val_loss: 0.0658 - val_accuracy: 0.9882\n",
            "Epoch 9/20\n",
            "624/624 [==============================] - 5s 8ms/step - loss: 0.0649 - accuracy: 0.9782 - val_loss: 0.0644 - val_accuracy: 0.9878\n"
          ]
        }
      ],
      "source": [
        "# Fit the model with min batch size as 32 can tune batch size to some factor of 2^power  \n",
        "\n",
        "history = model.fit(train_images, train_labels, batch_size = 32, callbacks = callbacks, validation_split = 0.2, epochs = 20, verbose = 1)\n",
        "\n"
      ]
    },
    {
      "cell_type": "code",
      "execution_count": null,
      "metadata": {
        "colab": {
          "base_uri": "https://localhost:8080/"
        },
        "id": "mHbgBrZe5Hqh",
        "outputId": "5243d1bf-67fd-4ea1-9caf-f70790f38de2"
      },
      "outputs": [
        {
          "output_type": "stream",
          "name": "stdout",
          "text": [
            "82/82 [==============================] - 0s 5ms/step - loss: 0.0757 - accuracy: 0.9796\n",
            "\n",
            " Test_Accuracy:- 0.9796153903007507\n"
          ]
        }
      ],
      "source": [
        "# Model accuracy\n",
        "\n",
        "accuracy = model.evaluate(test_images, test_labels, verbose = 1)\n",
        "print('\\n', 'Test_Accuracy:-', accuracy[1])"
      ]
    },
    {
      "cell_type": "code",
      "execution_count": null,
      "metadata": {
        "colab": {
          "base_uri": "https://localhost:8080/",
          "height": 500
        },
        "id": "mwY1yx095NN5",
        "outputId": "9acbe01f-e30c-489d-df8b-a9a9a63964c1"
      },
      "outputs": [
        {
          "output_type": "stream",
          "name": "stdout",
          "text": [
            "              precision    recall  f1-score   support\n",
            "\n",
            "           0       0.98      0.98      0.98      1300\n",
            "           1       0.98      0.98      0.98      1300\n",
            "\n",
            "    accuracy                           0.98      2600\n",
            "   macro avg       0.98      0.98      0.98      2600\n",
            "weighted avg       0.98      0.98      0.98      2600\n",
            "\n"
          ]
        },
        {
          "output_type": "display_data",
          "data": {
            "text/plain": [
              "<Figure size 576x360 with 2 Axes>"
            ],
            "image/png": "[encoded data removed]"
          },
          "metadata": {
            "needs_background": "light"
          }
        }
      ],
      "source": [
        "# Ploting confusion matrix\n",
        "\n",
        "from sklearn.metrics import classification_report\n",
        "from sklearn.metrics import confusion_matrix\n",
        "\n",
        "pred = model.predict(test_images)\n",
        "pred = np.argmax(pred, axis = 1) \n",
        "y_true = np.argmax(test_labels, axis = 1)\n",
        "\n",
        "# Printing the classification report\n",
        "print(classification_report(y_true, pred))\n",
        "\n",
        "# Plotting the heatmap using confusion matrix\n",
        "cm = confusion_matrix(y_true, pred)\n",
        "plt.figure(figsize = (8, 5))\n",
        "sns.heatmap(cm, annot = True,  fmt = '.0f', xticklabels = ['Uninfected', 'Parasitized'], yticklabels = ['Uninfected', 'Parasitized'])\n",
        "plt.ylabel('Actual')\n",
        "plt.xlabel('Predicted')\n",
        "plt.show()"
      ]
    },
    {
      "cell_type": "markdown",
      "metadata": {
        "id": "eWq4jyPL7f5a"
      },
      "source": [
        "<b>Plotting the train and validation curves"
      ]
    },
    {
      "cell_type": "code",
      "execution_count": null,
      "metadata": {
        "id": "U3h5gAwyW05u"
      },
      "outputs": [],
      "source": [
        "# Function to plot train and validation accuracy \n",
        "def plot_accuracy(history):\n",
        "    N = len(history.history[\"accuracy\"])\n",
        "    plt.figure(figsize = (7, 7))\n",
        "    plt.plot(np.arange(0, N), history.history[\"accuracy\"], label = \"train_accuracy\", ls = '--')\n",
        "    plt.plot(np.arange(0, N), history.history[\"val_accuracy\"], label = \"val_accuracy\", ls = '--')\n",
        "    plt.title(\"Accuracy vs Epoch\")\n",
        "    plt.xlabel(\"Epochs\")\n",
        "    plt.ylabel(\"Accuracy\")\n",
        "    plt.legend(loc=\"upper left\")"
      ]
    },
    {
      "cell_type": "code",
      "execution_count": null,
      "metadata": {
        "colab": {
          "base_uri": "https://localhost:8080/",
          "height": 458
        },
        "id": "PnxxiR-T5PsQ",
        "outputId": "99050abe-c286-4b70-d7f5-3682ce64e8e3"
      },
      "outputs": [
        {
          "output_type": "display_data",
          "data": {
            "text/plain": [
              "<Figure size 504x504 with 1 Axes>"
            ],
            "image/png": "[encoded data removed]"
          },
          "metadata": {
            "needs_background": "light"
          }
        }
      ],
      "source": [
        "plot_accuracy(history)"
      ]
    },
    {
      "cell_type": "markdown",
      "metadata": {
        "id": "AGOtxZ10fEIn"
      },
      "source": [
        "\n",
        "\n",
        "* Here we can clearly observe that the training and valiation accuracy are increasing \n",
        "* And we can also notice that validation accuracy is slightly higher than the train accuracy"
      ]
    }
  ],
  "metadata": {
    "accelerator": "GPU",
    "colab": {
      "collapsed_sections": [
        "G4_ZzqDp8T5w",
        "Zsx7jVjaiO9V",
        "aUwBBVzuijlU",
        "mJB6yf2EczFk"
      ],
      "provenance": [],
      "include_colab_link": true
    },
    "gpuClass": "premium",
    "kernelspec": {
      "display_name": "Python 3",
      "name": "python3"
    },
    "language_info": {
      "name": "python"
    }
  },
  "nbformat": 4,
  "nbformat_minor": 0
}